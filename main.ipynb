{
 "cells": [
  {
   "cell_type": "code",
   "execution_count": null,
   "metadata": {},
   "outputs": [],
   "source": [
    "!python3 -m pip install duckdb pandas jupysql\n",
    "# !pip install pandas"
   ]
  },
  {
   "cell_type": "code",
   "execution_count": null,
   "metadata": {},
   "outputs": [],
   "source": [
    "import duckdb\n",
    "import pandas as pd"
   ]
  },
  {
   "cell_type": "code",
   "execution_count": null,
   "metadata": {},
   "outputs": [],
   "source": [
    "%load_ext sql\n",
    "con = duckdb.connect('sources/iris/iris.duckdb')\n",
    "%sql conn --alias duckdb"
   ]
  },
  {
   "cell_type": "code",
   "execution_count": null,
   "metadata": {},
   "outputs": [],
   "source": [
    "storage_acct_name = \"mwladls2\"\n",
    "container_name = 'iris'"
   ]
  },
  {
   "cell_type": "code",
   "execution_count": null,
   "metadata": {},
   "outputs": [],
   "source": [
    "# ### Establish authentication to user - start with CLI:\n",
    "# ### az login\n",
    "\n",
    "# ### Remember to allow your username as 'blob contributor' in the IAM access panel for your storage account, otherwise your az CLI will not have permissions to connect\n",
    "# ### If your storage acct isn't open to the public, you'll need to use a vnet or some other access point. IP whitelisting may work as well.\n",
    "# con.execute(f\"\"\"\n",
    "#             CREATE SECRET adls2 (\n",
    "#                 TYPE AZURE,\n",
    "#                 PROVIDER CREDENTIAL_CHAIN,\n",
    "#                 ACCOUNT_NAME '{storage_acct_name}'\n",
    "#             );\"\"\")"
   ]
  },
  {
   "cell_type": "code",
   "execution_count": null,
   "metadata": {},
   "outputs": [],
   "source": [
    "con.execute(f\"\"\"CREATE TABLE IF NOT EXISTS iris AS SELECT * FROM 'az://mwladls2.blob.core.windows.net/iris/*.parquet';\"\"\")"
   ]
  }
 ],
 "metadata": {
  "kernelspec": {
   "display_name": "Python 3",
   "language": "python",
   "name": "python3"
  },
  "language_info": {
   "codemirror_mode": {
    "name": "ipython",
    "version": 3
   },
   "file_extension": ".py",
   "mimetype": "text/x-python",
   "name": "python",
   "nbconvert_exporter": "python",
   "pygments_lexer": "ipython3",
   "version": "3.11.9"
  }
 },
 "nbformat": 4,
 "nbformat_minor": 2
}
