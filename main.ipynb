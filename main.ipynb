{
 "cells": [
  {
   "cell_type": "code",
   "execution_count": 14,
   "metadata": {},
   "outputs": [
    {
     "name": "stdout",
     "output_type": "stream",
     "text": [
      "Requirement already satisfied: duckdb in ./.venv/lib/python3.11/site-packages (1.0.0)\n",
      "Requirement already satisfied: pandas in ./.venv/lib/python3.11/site-packages (2.2.2)\n",
      "Requirement already satisfied: jupysql in ./.venv/lib/python3.11/site-packages (0.10.12)\n",
      "Requirement already satisfied: numpy>=1.23.2 in ./.venv/lib/python3.11/site-packages (from pandas) (2.0.1)\n",
      "Requirement already satisfied: python-dateutil>=2.8.2 in ./.venv/lib/python3.11/site-packages (from pandas) (2.9.0.post0)\n",
      "Requirement already satisfied: pytz>=2020.1 in ./.venv/lib/python3.11/site-packages (from pandas) (2024.1)\n",
      "Requirement already satisfied: tzdata>=2022.7 in ./.venv/lib/python3.11/site-packages (from pandas) (2024.1)\n",
      "Requirement already satisfied: prettytable in ./.venv/lib/python3.11/site-packages (from jupysql) (3.10.2)\n",
      "Requirement already satisfied: sqlalchemy in ./.venv/lib/python3.11/site-packages (from jupysql) (2.0.31)\n",
      "Requirement already satisfied: sqlparse in ./.venv/lib/python3.11/site-packages (from jupysql) (0.5.1)\n",
      "Requirement already satisfied: ipython-genutils>=0.1.0 in ./.venv/lib/python3.11/site-packages (from jupysql) (0.2.0)\n",
      "Requirement already satisfied: jinja2 in ./.venv/lib/python3.11/site-packages (from jupysql) (3.1.4)\n",
      "Requirement already satisfied: sqlglot>=11.3.7 in ./.venv/lib/python3.11/site-packages (from jupysql) (25.7.1)\n",
      "Requirement already satisfied: jupysql-plugin>=0.4.2 in ./.venv/lib/python3.11/site-packages (from jupysql) (0.4.4)\n",
      "Requirement already satisfied: ploomber-core>=0.2.7 in ./.venv/lib/python3.11/site-packages (from jupysql) (0.2.25)\n",
      "Requirement already satisfied: ploomber-extension in ./.venv/lib/python3.11/site-packages (from jupysql) (0.1.1)\n",
      "Requirement already satisfied: pyyaml in ./.venv/lib/python3.11/site-packages (from ploomber-core>=0.2.7->jupysql) (6.0.1)\n",
      "Requirement already satisfied: posthog in ./.venv/lib/python3.11/site-packages (from ploomber-core>=0.2.7->jupysql) (3.5.0)\n",
      "Requirement already satisfied: six>=1.5 in ./.venv/lib/python3.11/site-packages (from python-dateutil>=2.8.2->pandas) (1.16.0)\n",
      "Requirement already satisfied: MarkupSafe>=2.0 in ./.venv/lib/python3.11/site-packages (from jinja2->jupysql) (2.1.5)\n",
      "Requirement already satisfied: wcwidth in ./.venv/lib/python3.11/site-packages (from prettytable->jupysql) (0.2.13)\n",
      "Requirement already satisfied: typing-extensions>=4.6.0 in ./.venv/lib/python3.11/site-packages (from sqlalchemy->jupysql) (4.12.2)\n",
      "Requirement already satisfied: requests<3.0,>=2.7 in ./.venv/lib/python3.11/site-packages (from posthog->ploomber-core>=0.2.7->jupysql) (2.32.3)\n",
      "Requirement already satisfied: monotonic>=1.5 in ./.venv/lib/python3.11/site-packages (from posthog->ploomber-core>=0.2.7->jupysql) (1.6)\n",
      "Requirement already satisfied: backoff>=1.10.0 in ./.venv/lib/python3.11/site-packages (from posthog->ploomber-core>=0.2.7->jupysql) (2.2.1)\n",
      "Requirement already satisfied: charset-normalizer<4,>=2 in ./.venv/lib/python3.11/site-packages (from requests<3.0,>=2.7->posthog->ploomber-core>=0.2.7->jupysql) (3.3.2)\n",
      "Requirement already satisfied: idna<4,>=2.5 in ./.venv/lib/python3.11/site-packages (from requests<3.0,>=2.7->posthog->ploomber-core>=0.2.7->jupysql) (3.7)\n",
      "Requirement already satisfied: urllib3<3,>=1.21.1 in ./.venv/lib/python3.11/site-packages (from requests<3.0,>=2.7->posthog->ploomber-core>=0.2.7->jupysql) (2.2.2)\n",
      "Requirement already satisfied: certifi>=2017.4.17 in ./.venv/lib/python3.11/site-packages (from requests<3.0,>=2.7->posthog->ploomber-core>=0.2.7->jupysql) (2024.7.4)\n"
     ]
    }
   ],
   "source": [
    "!python3 -m pip install duckdb pandas jupysql\n",
    "# !pip install pandas"
   ]
  },
  {
   "cell_type": "code",
   "execution_count": 15,
   "metadata": {},
   "outputs": [],
   "source": [
    "import duckdb\n",
    "import pandas as pd"
   ]
  },
  {
   "cell_type": "code",
   "execution_count": 16,
   "metadata": {},
   "outputs": [
    {
     "name": "stdout",
     "output_type": "stream",
     "text": [
      "The sql extension is already loaded. To reload it, use:\n",
      "  %reload_ext sql\n"
     ]
    }
   ],
   "source": [
    "%load_ext sql\n",
    "con = duckdb.connect('sources/iris/iris.duckdb')\n",
    "%sql conn --alias duckdb"
   ]
  },
  {
   "cell_type": "code",
   "execution_count": 17,
   "metadata": {},
   "outputs": [],
   "source": [
    "storage_acct_name = \"mwladls2\"\n",
    "container_name = 'iris'"
   ]
  },
  {
   "cell_type": "code",
   "execution_count": 18,
   "metadata": {},
   "outputs": [
    {
     "ename": "InvalidInputException",
     "evalue": "Invalid Input Error: Temporary secret with name 'adls2' already exists!",
     "output_type": "error",
     "traceback": [
      "\u001b[0;31m---------------------------------------------------------------------------\u001b[0m",
      "\u001b[0;31mInvalidInputException\u001b[0m                     Traceback (most recent call last)",
      "Cell \u001b[0;32mIn[18], line 4\u001b[0m\n\u001b[1;32m      1\u001b[0m \u001b[38;5;66;03m### Establish authentication to user\u001b[39;00m\n\u001b[1;32m      2\u001b[0m \u001b[38;5;66;03m### Remember to allow your username as 'blob contributor' in the IAM access panel for your storage account, otherwise your az CLI will not have permissions to connect\u001b[39;00m\n\u001b[1;32m      3\u001b[0m \u001b[38;5;66;03m### If your storage acct isn't open to the public, you'll need to use a vnet or some other access point. IP whitelisting may work as well.\u001b[39;00m\n\u001b[0;32m----> 4\u001b[0m \u001b[43mcon\u001b[49m\u001b[38;5;241;43m.\u001b[39;49m\u001b[43mexecute\u001b[49m\u001b[43m(\u001b[49m\u001b[38;5;124;43mf\u001b[39;49m\u001b[38;5;124;43m\"\"\"\u001b[39;49m\n\u001b[1;32m      5\u001b[0m \u001b[38;5;124;43m            CREATE SECRET adls2 (\u001b[39;49m\n\u001b[1;32m      6\u001b[0m \u001b[38;5;124;43m                TYPE AZURE,\u001b[39;49m\n\u001b[1;32m      7\u001b[0m \u001b[38;5;124;43m                PROVIDER CREDENTIAL_CHAIN,\u001b[39;49m\n\u001b[1;32m      8\u001b[0m \u001b[38;5;124;43m                ACCOUNT_NAME \u001b[39;49m\u001b[38;5;124;43m'\u001b[39;49m\u001b[38;5;132;43;01m{\u001b[39;49;00m\u001b[43mstorage_acct_name\u001b[49m\u001b[38;5;132;43;01m}\u001b[39;49;00m\u001b[38;5;124;43m'\u001b[39;49m\n\u001b[1;32m      9\u001b[0m \u001b[38;5;124;43m            );\u001b[39;49m\u001b[38;5;124;43m\"\"\"\u001b[39;49m\u001b[43m)\u001b[49m\n",
      "\u001b[0;31mInvalidInputException\u001b[0m: Invalid Input Error: Temporary secret with name 'adls2' already exists!"
     ]
    }
   ],
   "source": [
    "### Establish authentication to user - start with CLI:\n",
    "### az login\n",
    "\n",
    "### Remember to allow your username as 'blob contributor' in the IAM access panel for your storage account, otherwise your az CLI will not have permissions to connect\n",
    "### If your storage acct isn't open to the public, you'll need to use a vnet or some other access point. IP whitelisting may work as well.\n",
    "con.execute(f\"\"\"\n",
    "            CREATE SECRET adls2 (\n",
    "                TYPE AZURE,\n",
    "                PROVIDER CREDENTIAL_CHAIN,\n",
    "                ACCOUNT_NAME '{storage_acct_name}'\n",
    "            );\"\"\")"
   ]
  },
  {
   "cell_type": "code",
   "execution_count": 32,
   "metadata": {},
   "outputs": [
    {
     "data": {
      "text/html": [
       "<div>\n",
       "<style scoped>\n",
       "    .dataframe tbody tr th:only-of-type {\n",
       "        vertical-align: middle;\n",
       "    }\n",
       "\n",
       "    .dataframe tbody tr th {\n",
       "        vertical-align: top;\n",
       "    }\n",
       "\n",
       "    .dataframe thead th {\n",
       "        text-align: right;\n",
       "    }\n",
       "</style>\n",
       "<table border=\"1\" class=\"dataframe\">\n",
       "  <thead>\n",
       "    <tr style=\"text-align: right;\">\n",
       "      <th></th>\n",
       "      <th>count_star()</th>\n",
       "    </tr>\n",
       "  </thead>\n",
       "  <tbody>\n",
       "    <tr>\n",
       "      <th>0</th>\n",
       "      <td>150</td>\n",
       "    </tr>\n",
       "  </tbody>\n",
       "</table>\n",
       "</div>"
      ],
      "text/plain": [
       "   count_star()\n",
       "0           150"
      ]
     },
     "execution_count": 32,
     "metadata": {},
     "output_type": "execute_result"
    }
   ],
   "source": [
    "con.execute(f\"\"\"SELECT count(*) FROM 'az://mwladls2.blob.core.windows.net/iris/*.parquet';\"\"\").df()"
   ]
  }
 ],
 "metadata": {
  "kernelspec": {
   "display_name": "Python 3",
   "language": "python",
   "name": "python3"
  },
  "language_info": {
   "codemirror_mode": {
    "name": "ipython",
    "version": 3
   },
   "file_extension": ".py",
   "mimetype": "text/x-python",
   "name": "python",
   "nbconvert_exporter": "python",
   "pygments_lexer": "ipython3",
   "version": "3.11.9"
  }
 },
 "nbformat": 4,
 "nbformat_minor": 2
}
